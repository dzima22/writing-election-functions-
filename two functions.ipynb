{
  "cells": [
    {
      "cell_type": "code",
      "source": [
        "import pandas as pd\n",
        "import numpy as np\n",
        "import os"
      ],
      "outputs": [],
      "execution_count": 1,
      "metadata": {},
      "id": "0302ff06"
    },
    {
      "cell_type": "code",
      "source": [
        "#wgrywanie danych\n",
        "df1= pd.read_csv('wybory_sejm_2015.csv')\n",
        "df2= pd.read_csv('wybory_sejm_2019.csv')\n",
        "df3= pd.read_csv('wybory_sejm_2023.csv')"
      ],
      "outputs": [],
      "execution_count": 2,
      "metadata": {},
      "id": "4e87e769"
    },
    {
      "cell_type": "code",
      "source": [
        "# Zadanie 1\n",
        "df3['frekwencja']=round(df3['Liczba kart wyjętych z urny']/df3['Liczba wyborców uprawnionych do głosowania']*100,0)\n",
        "df2023=df3[['TERYT Gminy','frekwencja']]\n",
        "df2023.columns=['Kod TERYT','frekwencja']\n",
        "df2023=df2023[91:]"
      ],
      "outputs": [],
      "execution_count": 3,
      "metadata": {},
      "id": "57ebdc17"
    },
    {
      "cell_type": "code",
      "source": [
        "# w następnych krokach liczymy frekwencje i porządkujęmy ramkę danych"
      ],
      "outputs": [],
      "execution_count": 4,
      "metadata": {},
      "id": "07c31599"
    },
    {
      "cell_type": "code",
      "source": [
        "df2['frekwencja']=round(df2['Liczba kart wyjętych z urny']/df2['Liczba wyborców uprawnionych do głosowania']*100,0)\n",
        "df2019=df2[['Kod TERYT', 'Gmina','Powiat','Województwo','frekwencja']]"
      ],
      "outputs": [],
      "execution_count": 5,
      "metadata": {},
      "id": "40cfcd6e"
    },
    {
      "cell_type": "code",
      "source": [
        "df_glowny=pd.merge(df2019,df2023,on='Kod TERYT', how='outer')"
      ],
      "outputs": [],
      "execution_count": 6,
      "metadata": {},
      "id": "bf3fe7b9"
    },
    {
      "cell_type": "code",
      "source": [
        "df1['frekwencja']=round(df1['Karty wyjęte z urny']/df1['Liczba wyborców']*100,0)\n",
        "df2015=df1[['TERYT','frekwencja','Gmina']]\n",
        "df2015.columns=['Kod TERYT', 'frekwencja','Gmina']"
      ],
      "outputs": [],
      "execution_count": 7,
      "metadata": {},
      "id": "0e4e5e85"
    },
    {
      "cell_type": "code",
      "source": [
        "df_glowny=pd.merge(df_glowny,df2015,on='Gmina', how='outer')"
      ],
      "outputs": [],
      "execution_count": 8,
      "metadata": {},
      "id": "3a6e730d"
    },
    {
      "cell_type": "code",
      "source": [
        "df_glowny.isnull().sum()"
      ],
      "outputs": [
        {
          "output_type": "execute_result",
          "execution_count": 9,
          "data": {
            "text/plain": "Kod TERYT_x      9\nGmina            0\nPowiat           9\nWojewództwo      9\nfrekwencja_x     9\nfrekwencja_y    11\nKod TERYT_y      7\nfrekwencja       7\ndtype: int64"
          },
          "metadata": {}
        }
      ],
      "execution_count": 9,
      "metadata": {},
      "id": "f890733a"
    },
    {
      "cell_type": "code",
      "source": [
        "df_glowny=df_glowny.dropna()\n"
      ],
      "outputs": [],
      "execution_count": 10,
      "metadata": {},
      "id": "958aa9aa"
    },
    {
      "cell_type": "code",
      "source": [
        "df_glowny"
      ],
      "outputs": [
        {
          "output_type": "execute_result",
          "execution_count": 11,
          "data": {
            "text/html": "<div>\n<style scoped>\n    .dataframe tbody tr th:only-of-type {\n        vertical-align: middle;\n    }\n\n    .dataframe tbody tr th {\n        vertical-align: top;\n    }\n\n    .dataframe thead th {\n        text-align: right;\n    }\n</style>\n<table border=\"1\" class=\"dataframe\">\n  <thead>\n    <tr style=\"text-align: right;\">\n      <th></th>\n      <th>Kod TERYT_x</th>\n      <th>Gmina</th>\n      <th>Powiat</th>\n      <th>Województwo</th>\n      <th>frekwencja_x</th>\n      <th>frekwencja_y</th>\n      <th>Kod TERYT_y</th>\n      <th>frekwencja</th>\n    </tr>\n  </thead>\n  <tbody>\n    <tr>\n      <th>0</th>\n      <td>20101.0</td>\n      <td>m. Bolesławiec</td>\n      <td>bolesławiecki</td>\n      <td>dolnośląskie</td>\n      <td>61.0</td>\n      <td>73.0</td>\n      <td>20101.0</td>\n      <td>49.0</td>\n    </tr>\n    <tr>\n      <th>1</th>\n      <td>20102.0</td>\n      <td>gm. Bolesławiec</td>\n      <td>bolesławiecki</td>\n      <td>dolnośląskie</td>\n      <td>57.0</td>\n      <td>73.0</td>\n      <td>20102.0</td>\n      <td>43.0</td>\n    </tr>\n    <tr>\n      <th>2</th>\n      <td>20102.0</td>\n      <td>gm. Bolesławiec</td>\n      <td>bolesławiecki</td>\n      <td>dolnośląskie</td>\n      <td>57.0</td>\n      <td>73.0</td>\n      <td>101801.0</td>\n      <td>42.0</td>\n    </tr>\n    <tr>\n      <th>3</th>\n      <td>101801.0</td>\n      <td>gm. Bolesławiec</td>\n      <td>wieruszowski</td>\n      <td>łódzkie</td>\n      <td>54.0</td>\n      <td>69.0</td>\n      <td>20102.0</td>\n      <td>43.0</td>\n    </tr>\n    <tr>\n      <th>4</th>\n      <td>101801.0</td>\n      <td>gm. Bolesławiec</td>\n      <td>wieruszowski</td>\n      <td>łódzkie</td>\n      <td>54.0</td>\n      <td>69.0</td>\n      <td>101801.0</td>\n      <td>42.0</td>\n    </tr>\n    <tr>\n      <th>...</th>\n      <td>...</td>\n      <td>...</td>\n      <td>...</td>\n      <td>...</td>\n      <td>...</td>\n      <td>...</td>\n      <td>...</td>\n      <td>...</td>\n    </tr>\n    <tr>\n      <th>2667</th>\n      <td>321804.0</td>\n      <td>gm. Resko</td>\n      <td>łobeski</td>\n      <td>zachodniopomorskie</td>\n      <td>47.0</td>\n      <td>61.0</td>\n      <td>321804.0</td>\n      <td>34.0</td>\n    </tr>\n    <tr>\n      <th>2668</th>\n      <td>321805.0</td>\n      <td>gm. Węgorzyno</td>\n      <td>łobeski</td>\n      <td>zachodniopomorskie</td>\n      <td>47.0</td>\n      <td>61.0</td>\n      <td>321805.0</td>\n      <td>33.0</td>\n    </tr>\n    <tr>\n      <th>2669</th>\n      <td>326101.0</td>\n      <td>m. Koszalin</td>\n      <td>Koszalin</td>\n      <td>zachodniopomorskie</td>\n      <td>65.0</td>\n      <td>76.0</td>\n      <td>326101.0</td>\n      <td>55.0</td>\n    </tr>\n    <tr>\n      <th>2670</th>\n      <td>326201.0</td>\n      <td>m. Szczecin</td>\n      <td>Szczecin</td>\n      <td>zachodniopomorskie</td>\n      <td>67.0</td>\n      <td>78.0</td>\n      <td>326201.0</td>\n      <td>55.0</td>\n    </tr>\n    <tr>\n      <th>2671</th>\n      <td>326301.0</td>\n      <td>m. Świnoujście</td>\n      <td>Świnoujście</td>\n      <td>zachodniopomorskie</td>\n      <td>62.0</td>\n      <td>75.0</td>\n      <td>326301.0</td>\n      <td>51.0</td>\n    </tr>\n  </tbody>\n</table>\n<p>2665 rows × 8 columns</p>\n</div>",
            "text/plain": "      Kod TERYT_x            Gmina         Powiat         Województwo  \\\n0         20101.0   m. Bolesławiec  bolesławiecki        dolnośląskie   \n1         20102.0  gm. Bolesławiec  bolesławiecki        dolnośląskie   \n2         20102.0  gm. Bolesławiec  bolesławiecki        dolnośląskie   \n3        101801.0  gm. Bolesławiec   wieruszowski             łódzkie   \n4        101801.0  gm. Bolesławiec   wieruszowski             łódzkie   \n...           ...              ...            ...                 ...   \n2667     321804.0        gm. Resko        łobeski  zachodniopomorskie   \n2668     321805.0    gm. Węgorzyno        łobeski  zachodniopomorskie   \n2669     326101.0      m. Koszalin       Koszalin  zachodniopomorskie   \n2670     326201.0      m. Szczecin       Szczecin  zachodniopomorskie   \n2671     326301.0   m. Świnoujście    Świnoujście  zachodniopomorskie   \n\n      frekwencja_x  frekwencja_y  Kod TERYT_y  frekwencja  \n0             61.0          73.0      20101.0        49.0  \n1             57.0          73.0      20102.0        43.0  \n2             57.0          73.0     101801.0        42.0  \n3             54.0          69.0      20102.0        43.0  \n4             54.0          69.0     101801.0        42.0  \n...            ...           ...          ...         ...  \n2667          47.0          61.0     321804.0        34.0  \n2668          47.0          61.0     321805.0        33.0  \n2669          65.0          76.0     326101.0        55.0  \n2670          67.0          78.0     326201.0        55.0  \n2671          62.0          75.0     326301.0        51.0  \n\n[2665 rows x 8 columns]"
          },
          "metadata": {}
        }
      ],
      "execution_count": 11,
      "metadata": {},
      "id": "d3cb28b2"
    },
    {
      "cell_type": "code",
      "source": [
        "df_glowny=df_glowny.drop(['Kod TERYT_x', 'Kod TERYT_y'], axis=1)"
      ],
      "outputs": [],
      "execution_count": 12,
      "metadata": {},
      "id": "01daad51"
    },
    {
      "cell_type": "code",
      "source": [
        "df_glowny = df_glowny.rename(columns={'frekwencja_x': '2015','frekwencja_y': '2019','frekwencja': '2023'})\n",
        "df_glowny[['2015','2019','2023']]=df_glowny[['2015','2019','2023']].astype('int64')"
      ],
      "outputs": [],
      "execution_count": 13,
      "metadata": {},
      "id": "d8fb08ce"
    },
    {
      "cell_type": "code",
      "source": [
        "df_glowny=df_glowny.drop_duplicates()"
      ],
      "outputs": [],
      "execution_count": 14,
      "metadata": {},
      "id": "356e1d51"
    },
    {
      "cell_type": "code",
      "source": [
        "def election_statistics(year=['frekwencja_2015','frekwencja_2019','frekwencja_2023'],jst='Powiat',jst_number=10,sort=True,sort_year=-1,stat='frekwencja'):\n",
        "    \"\"\"\n",
        "    funkcja zwraca ramkę danych z nazwami 8 powiatów, w których w n roku odnotowano najniższą frekwencję w wyborach do Sejmu łącznie z poziomem tej frekwencji w \n",
        "tych powiatach w n i m roku\n",
        "\n",
        "    Args:\n",
        "        year(list of strings): A list of string values.\n",
        "        jst(string value)= string 'Powiat' albo 'Gmina'\n",
        "        jst_number(integer_number)= integer \n",
        "        sort(Boolean value)=Bool\n",
        "        sort_year(integer value)=-integer\n",
        "        stat(string)=string \n",
        "    Returns:\n",
        "       dataframe: dataframe z powiatami i statystykami \n",
        "\n",
        "    Przykłady:\n",
        "        >>> election_statistics(year = [2015, 2019], jst=’powiat’, jst_number=8, sort=True, stat=‘frekwencja’)\n",
        "        posortowana  ramka danych 8 powiatów ze największej  frekwencją w roku 2015 oraz 2019\n",
        "    \"\"\"\n",
        "    if stat=='frekwencja':\n",
        "        if jst_number<2494:\n",
        "            if len(year)>=2:\n",
        "                 return df_glowny[[year[sort_year],year[sort_year-1],jst,'Województwo']].sort_values(by=year[sort_year],ascending=sort)[:jst_number]\n",
        "            else:\n",
        "                return print('Type Error. The number of items in list must be 2')\n",
        "        else:\n",
        "            return print('Limit Error. Please enter value that lower than 2494')\n",
        "    else:\n",
        "        return print('This function has only one statistic')"
      ],
      "outputs": [],
      "execution_count": 15,
      "metadata": {},
      "id": "fc0ef3d2"
    },
    {
      "cell_type": "code",
      "source": [
        "election_statistics(['2019','2015'])"
      ],
      "outputs": [
        {
          "output_type": "execute_result",
          "execution_count": 16,
          "data": {
            "text/html": "<div>\n<style scoped>\n    .dataframe tbody tr th:only-of-type {\n        vertical-align: middle;\n    }\n\n    .dataframe tbody tr th {\n        vertical-align: top;\n    }\n\n    .dataframe thead th {\n        text-align: right;\n    }\n</style>\n<table border=\"1\" class=\"dataframe\">\n  <thead>\n    <tr style=\"text-align: right;\">\n      <th></th>\n      <th>2015</th>\n      <th>2019</th>\n      <th>Powiat</th>\n      <th>Województwo</th>\n    </tr>\n  </thead>\n  <tbody>\n    <tr>\n      <th>1531</th>\n      <td>35</td>\n      <td>51</td>\n      <td>oleski</td>\n      <td>opolskie</td>\n    </tr>\n    <tr>\n      <th>2240</th>\n      <td>36</td>\n      <td>58</td>\n      <td>bartoszycki</td>\n      <td>warmińsko-mazurskie</td>\n    </tr>\n    <tr>\n      <th>2282</th>\n      <td>37</td>\n      <td>54</td>\n      <td>kętrzyński</td>\n      <td>warmińsko-mazurskie</td>\n    </tr>\n    <tr>\n      <th>2309</th>\n      <td>38</td>\n      <td>52</td>\n      <td>olecki</td>\n      <td>warmińsko-mazurskie</td>\n    </tr>\n    <tr>\n      <th>2245</th>\n      <td>38</td>\n      <td>57</td>\n      <td>braniewski</td>\n      <td>warmińsko-mazurskie</td>\n    </tr>\n    <tr>\n      <th>2328</th>\n      <td>39</td>\n      <td>60</td>\n      <td>ostródzki</td>\n      <td>warmińsko-mazurskie</td>\n    </tr>\n    <tr>\n      <th>2299</th>\n      <td>39</td>\n      <td>57</td>\n      <td>nidzicki</td>\n      <td>warmińsko-mazurskie</td>\n    </tr>\n    <tr>\n      <th>1972</th>\n      <td>39</td>\n      <td>54</td>\n      <td>sztumski</td>\n      <td>pomorskie</td>\n    </tr>\n    <tr>\n      <th>1812</th>\n      <td>39</td>\n      <td>56</td>\n      <td>siemiatycki</td>\n      <td>podlaskie</td>\n    </tr>\n    <tr>\n      <th>2266</th>\n      <td>39</td>\n      <td>54</td>\n      <td>ełcki</td>\n      <td>warmińsko-mazurskie</td>\n    </tr>\n  </tbody>\n</table>\n</div>",
            "text/plain": "      2015  2019       Powiat          Województwo\n1531    35    51       oleski             opolskie\n2240    36    58  bartoszycki  warmińsko-mazurskie\n2282    37    54   kętrzyński  warmińsko-mazurskie\n2309    38    52       olecki  warmińsko-mazurskie\n2245    38    57   braniewski  warmińsko-mazurskie\n2328    39    60    ostródzki  warmińsko-mazurskie\n2299    39    57     nidzicki  warmińsko-mazurskie\n1972    39    54     sztumski            pomorskie\n1812    39    56  siemiatycki            podlaskie\n2266    39    54        ełcki  warmińsko-mazurskie"
          },
          "metadata": {}
        }
      ],
      "execution_count": 16,
      "metadata": {
        "scrolled": false
      },
      "id": "14dbbc3f"
    },
    {
      "cell_type": "code",
      "source": [
        "# Zadanie 2"
      ],
      "outputs": [],
      "execution_count": 17,
      "metadata": {},
      "id": "ad80d173"
    },
    {
      "cell_type": "code",
      "source": [
        "# w poniższych okienkach będę formatować dane oraz łączyć ich do jednej tablicy "
      ],
      "outputs": [],
      "execution_count": 18,
      "metadata": {},
      "id": "a4ecd108"
    },
    {
      "cell_type": "code",
      "source": [
        "df1 = df1.rename({'TERYT': 'Kod TERYT'}, axis=1)"
      ],
      "outputs": [],
      "execution_count": 19,
      "metadata": {},
      "id": "e51059ab"
    },
    {
      "cell_type": "code",
      "source": [
        "dfp=pd.merge(df2[['Kod TERYT','Powiat','Województwo']],df1[['Kod TERYT','Gmina','1 - Komitet Wyborczy Prawo i Sprawiedliwość', 'Głosy ważne','2 - Komitet Wyborczy Platforma Obywatelska RP',\n",
        "     '8 - Komitet Wyborczy Nowoczesna Ryszarda Petru','5 - Komitet Wyborczy Polskie Stronnictwo Ludowe','4 - Komitet Wyborczy KORWiN',\n",
        "    '14 - Komitet Wyborczy Wyborców Grzegorza Brauna „Szczęść Boże!”','3 - Komitet Wyborczy Partia Razem',\n",
        "     '6 - Koalicyjny Komitet Wyborczy Zjednoczona Lewica SLD+TR+PPS+UP+Zieloni','16 - Komitet Wyborczy Wyborców Mniejszość Niemiecka']],on='Kod TERYT', how='outer')"
      ],
      "outputs": [],
      "execution_count": 20,
      "metadata": {},
      "id": "20dcec77"
    },
    {
      "cell_type": "code",
      "source": [
        "glosy=dfp.groupby(['Województwo','Powiat'],as_index=False)[['Głosy ważne']].sum()\n",
        "PIS=dfp.groupby(['Województwo','Powiat'],as_index=False)[['1 - Komitet Wyborczy Prawo i Sprawiedliwość']].sum()\n",
        "PLATFORMA=dfp.groupby(['Województwo','Powiat'],as_index=False)[['2 - Komitet Wyborczy Platforma Obywatelska RP','8 - Komitet Wyborczy Nowoczesna Ryszarda Petru']].sum()\n",
        "PLATFORMA['SUMA']=PLATFORMA['2 - Komitet Wyborczy Platforma Obywatelska RP']+PLATFORMA['8 - Komitet Wyborczy Nowoczesna Ryszarda Petru']\n",
        "PSL=dfp.groupby(['Województwo','Powiat'],as_index=False)[['5 - Komitet Wyborczy Polskie Stronnictwo Ludowe']].sum()\n",
        "Konfederacja=dfp.groupby(['Województwo','Powiat'],as_index=False)[['4 - Komitet Wyborczy KORWiN','14 - Komitet Wyborczy Wyborców Grzegorza Brauna „Szczęść Boże!”']].sum()\n",
        "Konfederacja['SUMA']=Konfederacja['4 - Komitet Wyborczy KORWiN']+Konfederacja['14 - Komitet Wyborczy Wyborców Grzegorza Brauna „Szczęść Boże!”']\n",
        "Lewica=dfp.groupby(['Województwo','Powiat'],as_index=False)[['3 - Komitet Wyborczy Partia Razem','6 - Koalicyjny Komitet Wyborczy Zjednoczona Lewica SLD+TR+PPS+UP+Zieloni']].sum()\n",
        "Lewica['SUMA']=Lewica['3 - Komitet Wyborczy Partia Razem']+Lewica['6 - Koalicyjny Komitet Wyborczy Zjednoczona Lewica SLD+TR+PPS+UP+Zieloni']\n",
        "Mniejszosc=dfp.groupby(['Województwo','Powiat'],as_index=False)[['16 - Komitet Wyborczy Wyborców Mniejszość Niemiecka']].sum()\n"
      ],
      "outputs": [],
      "execution_count": 21,
      "metadata": {},
      "id": "2537d704"
    },
    {
      "cell_type": "code",
      "source": [
        "PIS['PIS_PROCENT']=PIS['1 - Komitet Wyborczy Prawo i Sprawiedliwość']/glosy['Głosy ważne']*100\n",
        "PLATFORMA['PLATFORMA_PROCENT']=PLATFORMA['SUMA']/glosy['Głosy ważne']*100\n",
        "PSL['PSL_PROCENT']=PSL['5 - Komitet Wyborczy Polskie Stronnictwo Ludowe']/glosy['Głosy ważne']*100\n",
        "Konfederacja['Konfederacja_PROCENT']=Konfederacja['SUMA']/glosy['Głosy ważne']*100\n",
        "Lewica['LEWICA_PROCENT']=Lewica['SUMA']/glosy['Głosy ważne']*100\n",
        "Mniejszosc['Mniejszosc_PROCENT']=Mniejszosc['16 - Komitet Wyborczy Wyborców Mniejszość Niemiecka']/glosy['Głosy ważne']*100"
      ],
      "outputs": [],
      "execution_count": 22,
      "metadata": {},
      "id": "aa994d70"
    },
    {
      "cell_type": "code",
      "source": [
        "PIS['Powiat']=PIS['Powiat'].str.lower()\n",
        "PLATFORMA['Powiat']=PLATFORMA['Powiat'].str.lower()\n",
        "Konfederacja['Powiat']=Konfederacja['Powiat'].str.lower()\n",
        "PSL['Powiat']=PSL['Powiat'].str.lower()\n",
        "Lewica['Powiat']=Lewica['Powiat'].str.lower()\n",
        "glosy['Powiat']=glosy['Powiat'].str.lower()"
      ],
      "outputs": [],
      "execution_count": 23,
      "metadata": {},
      "id": "967b8830"
    },
    {
      "cell_type": "code",
      "source": [
        "#wgrywamy dane o wynagrodzeniu \n",
        "df_wyn= pd.read_excel('wynagrodzenia.xlsx', sheet_name=2,header=2)\n"
      ],
      "outputs": [],
      "execution_count": 24,
      "metadata": {},
      "id": "65a29aa4"
    },
    {
      "cell_type": "code",
      "source": [
        "df_wyn['Nazwa']=df_wyn['Nazwa'].apply(lambda row: row if str(row).startswith('Powiat') else None)\n",
        "df_wyn['Nazwa']=df_wyn['Nazwa'].str.split().str[-1].str.lower()"
      ],
      "outputs": [],
      "execution_count": 25,
      "metadata": {},
      "id": "dbf50d2a"
    },
    {
      "cell_type": "code",
      "source": [
        "df_wyn=df_wyn.dropna()"
      ],
      "outputs": [],
      "execution_count": 26,
      "metadata": {},
      "id": "dc1b9298"
    },
    {
      "cell_type": "code",
      "source": [
        "df_wyn = df_wyn.rename({'Nazwa': 'Powiat'}, axis=1)"
      ],
      "outputs": [],
      "execution_count": 27,
      "metadata": {},
      "id": "2dcba993"
    },
    {
      "cell_type": "code",
      "source": [
        "df_wyn1=df_wyn[['Powiat','2015','2019','2022']]"
      ],
      "outputs": [],
      "execution_count": 28,
      "metadata": {},
      "id": "1f6d3ed7"
    },
    {
      "cell_type": "code",
      "source": [
        "PIS1=pd.merge(PIS, df_wyn1, on='Powiat',how='outer')\n",
        "PIS1=PIS1.dropna()"
      ],
      "outputs": [],
      "execution_count": 29,
      "metadata": {},
      "id": "e06d0dcc"
    },
    {
      "cell_type": "code",
      "source": [
        "df_main=pd.merge(PIS1, PLATFORMA, on=['Powiat','Województwo'],how='outer')\n",
        "df_main=pd.merge(df_main, PSL, on=['Powiat','Województwo'],how='outer')\n",
        "df_main=pd.merge(df_main, Konfederacja, on=['Powiat','Województwo'],how='outer')\n",
        "df_main=pd.merge(df_main, Lewica, on=['Powiat','Województwo'],how='outer')\n",
        "df_main=pd.merge(df_main, Mniejszosc, on=['Powiat','Województwo'],how='outer')"
      ],
      "outputs": [],
      "execution_count": 30,
      "metadata": {},
      "id": "5ee1782c"
    },
    {
      "cell_type": "code",
      "source": [
        "df_main=df_main.drop(['2 - Komitet Wyborczy Platforma Obywatelska RP','8 - Komitet Wyborczy Nowoczesna Ryszarda Petru'], axis=1)"
      ],
      "outputs": [],
      "execution_count": 31,
      "metadata": {},
      "id": "54a04d36"
    },
    {
      "cell_type": "code",
      "source": [
        "df_main=df_main.drop(['3 - Komitet Wyborczy Partia Razem','6 - Koalicyjny Komitet Wyborczy Zjednoczona Lewica SLD+TR+PPS+UP+Zieloni'], axis=1)"
      ],
      "outputs": [],
      "execution_count": 32,
      "metadata": {},
      "id": "f13954cd"
    },
    {
      "cell_type": "code",
      "source": [
        "df_main=df_main.drop(['14 - Komitet Wyborczy Wyborców Grzegorza Brauna „Szczęść Boże!”','4 - Komitet Wyborczy KORWiN'], axis=1)"
      ],
      "outputs": [],
      "execution_count": 33,
      "metadata": {},
      "id": "e76888c4"
    },
    {
      "cell_type": "code",
      "source": [
        "df_main = df_main.rename({'1 - Komitet Wyborczy Prawo i Sprawiedliwość': 'PIS_SUMA_2015','2015': 'Wynagrodzenie_2015','2019': 'Wynagrodzenie_2019','2022': 'Wynagrodzenie_2023',\n",
        "                          'SUMA_x': 'PLATFORMA_SUMA_2015','5 - Komitet Wyborczy Polskie Stronnictwo Ludowe': 'PSL_SUMA_2015','SUMA_y': 'KONFEDERACJA_SUMA_2015','SUMA': 'LEWICA_SUMA_2015','16 - Komitet Wyborczy Wyborców Mniejszość Niemiecka': 'MNIEJSZOSC_SUMA_2015'}, axis=1)"
      ],
      "outputs": [],
      "execution_count": 34,
      "metadata": {},
      "id": "d5ae791b"
    },
    {
      "cell_type": "code",
      "source": [
        "df_main = df_main.rename({'PIS_PROCENT':'PIS_PROCENT_2015','PLATFORMA_PROCENT':'PLATFORMA_PROCENT_2015','PSL_PROCENT':'PSL_PROCENT_2015',\n",
        "                          'Konfederacja_PROCENT':'Konfederacja_PROCENT_2015','LEWICA_PROCENT':'LEWICA_PROCENT_2015','Mniejszosc_PROCENT':'Mniejszosc_PROCENT_2015'}, axis=1)"
      ],
      "outputs": [],
      "execution_count": 35,
      "metadata": {
        "scrolled": false
      },
      "id": "93c0b2cb"
    },
    {
      "cell_type": "code",
      "source": [
        "df4=df2.groupby(['Województwo','Powiat'],as_index=False)[['KOMITET WYBORCZY PRAWO I SPRAWIEDLIWOŚĆ - ZPOW-601-9/19','KOALICYJNY KOMITET WYBORCZY KOALICJA OBYWATELSKA PO .N IPL ZIELONI - ZPOW-601-6/19',\n",
        "                                                     'KOMITET WYBORCZY POLSKIE STRONNICTWO LUDOWE - ZPOW-601-19/19','KOMITET WYBORCZY KONFEDERACJA WOLNOŚĆ I NIEPODLEGŁOŚĆ - ZPOW-601-5/19',\n",
        "                                                     'KOMITET WYBORCZY SOJUSZ LEWICY DEMOKRATYCZNEJ - ZPOW-601-1/19','KOMITET WYBORCZY WYBORCÓW MNIEJSZOŚĆ NIEMIECKA - ZPOW-601-15/19',\n",
        "                                                     'Liczba głosów ważnych oddanych łącznie na wszystkie listy kandydatów',]].sum()"
      ],
      "outputs": [],
      "execution_count": 36,
      "metadata": {},
      "id": "a8c07f1e"
    },
    {
      "cell_type": "code",
      "source": [
        "df4=df4.rename({'KOMITET WYBORCZY PRAWO I SPRAWIEDLIWOŚĆ - ZPOW-601-9/19':'PIS_SUMA_2019','KOALICYJNY KOMITET WYBORCZY KOALICJA OBYWATELSKA PO .N IPL ZIELONI - ZPOW-601-6/19':'KO_SUMA_2019',\n",
        "                                                     'KOMITET WYBORCZY POLSKIE STRONNICTWO LUDOWE - ZPOW-601-19/19':'PSL_SUMA_2019','KOMITET WYBORCZY KONFEDERACJA WOLNOŚĆ I NIEPODLEGŁOŚĆ - ZPOW-601-5/19':'KONFEDERACJA_SUMA_2019',\n",
        "                                                     'KOMITET WYBORCZY SOJUSZ LEWICY DEMOKRATYCZNEJ - ZPOW-601-1/19':'LEWICA_SUMA_2019','KOMITET WYBORCZY WYBORCÓW MNIEJSZOŚĆ NIEMIECKA - ZPOW-601-15/19':'MNIEJSZOSC_SUMA_2019',\n",
        "                                                     'Liczba głosów ważnych oddanych łącznie na wszystkie listy kandydatów':'Głosy_wazne_2019'}, axis=1)"
      ],
      "outputs": [],
      "execution_count": 37,
      "metadata": {},
      "id": "f206bd35"
    },
    {
      "cell_type": "code",
      "source": [
        "df4['PIS_PROCENT_2019']=df4['PIS_SUMA_2019']/df4['Głosy_wazne_2019']*100\n",
        "df4['KO_PROCENT_2019']=df4['KO_SUMA_2019']/df4['Głosy_wazne_2019']*100\n",
        "df4['PSL_PROCENT_2019']=df4['PSL_SUMA_2019']/df4['Głosy_wazne_2019']*100\n",
        "df4['KONFEDERACJA_PROCENT_2019']=df4['KONFEDERACJA_SUMA_2019']/df4['Głosy_wazne_2019']*100\n",
        "df4['LEWICA_PROCENT_2019']=df4['LEWICA_SUMA_2019']/df4['Głosy_wazne_2019']*100\n",
        "df4['MNIEJSZOSC_PROCENT_2019']=df4['MNIEJSZOSC_SUMA_2019']/df4['Głosy_wazne_2019']*100"
      ],
      "outputs": [],
      "execution_count": 38,
      "metadata": {},
      "id": "c3b6ebde"
    },
    {
      "cell_type": "code",
      "source": [
        "df5=df3.groupby(['Województwo','Powiat'],as_index=False)[['KOMITET WYBORCZY PRAWO I SPRAWIEDLIWOŚĆ','KOALICYJNY KOMITET WYBORCZY KOALICJA OBYWATELSKA PO .N IPL ZIELONI','KOALICYJNY KOMITET WYBORCZY TRZECIA DROGA POLSKA 2050 SZYMONA HOŁOWNI - POLSKIE STRONNICTWO LUDOWE',\n",
        "                                                         'KOMITET WYBORCZY KONFEDERACJA WOLNOŚĆ I NIEPODLEGŁOŚĆ','KOMITET WYBORCZY NOWA LEWICA','KOMITET WYBORCZY WYBORCÓW MNIEJSZOŚĆ NIEMIECKA','Liczba głosów ważnych oddanych łącznie na wszystkie listy kandydatów']].sum()"
      ],
      "outputs": [],
      "execution_count": 39,
      "metadata": {},
      "id": "0eff2736"
    },
    {
      "cell_type": "code",
      "source": [
        "df5=df5.rename({'KOMITET WYBORCZY PRAWO I SPRAWIEDLIWOŚĆ':'PIS_SUMA_2023','KOALICYJNY KOMITET WYBORCZY KOALICJA OBYWATELSKA PO .N IPL ZIELONI':'KO_SUMA_2023','KOALICYJNY KOMITET WYBORCZY TRZECIA DROGA POLSKA 2050 SZYMONA HOŁOWNI - POLSKIE STRONNICTWO LUDOWE':'PSL_SUMA_2023',\n",
        "                                                         'KOMITET WYBORCZY KONFEDERACJA WOLNOŚĆ I NIEPODLEGŁOŚĆ':'KONFEDERACJA_SUMA_2023','KOMITET WYBORCZY NOWA LEWICA':'LEWICA_SUMA_2023','KOMITET WYBORCZY WYBORCÓW MNIEJSZOŚĆ NIEMIECKA':'MNIEJSZOSC_SUMA_2023','Liczba głosów ważnych oddanych łącznie na wszystkie listy kandydatów':'Głosy_wazne_2023'}, axis=1)"
      ],
      "outputs": [],
      "execution_count": 40,
      "metadata": {},
      "id": "1f523530"
    },
    {
      "cell_type": "code",
      "source": [
        "df5['PIS_PROCENT_2023']=df5['PIS_SUMA_2023']/df5['Głosy_wazne_2023']*100\n",
        "df5['KO_PROCENT_2023']=df5['KO_SUMA_2023']/df5['Głosy_wazne_2023']*100\n",
        "df5['PSL_PROCENT_2023']=df5['PSL_SUMA_2023']/df5['Głosy_wazne_2023']*100\n",
        "df5['KONFEDERACJA_PROCENT_2023']=df5['KONFEDERACJA_SUMA_2023']/df5['Głosy_wazne_2023']*100\n",
        "df5['LEWICA_PROCENT_2023']=df5['LEWICA_SUMA_2023']/df5['Głosy_wazne_2023']*100\n",
        "df5['MNIEJSZOSC_PROCENT_2023']=df5['MNIEJSZOSC_SUMA_2023']/df5['Głosy_wazne_2023']*100"
      ],
      "outputs": [],
      "execution_count": 41,
      "metadata": {},
      "id": "8a7ff283"
    },
    {
      "cell_type": "code",
      "source": [
        "df4['Powiat']=df4['Powiat'].str.lower()\n",
        "df5['Powiat']=df5['Powiat'].str.lower()"
      ],
      "outputs": [],
      "execution_count": 42,
      "metadata": {},
      "id": "b38bc848"
    },
    {
      "cell_type": "code",
      "source": [
        "df_main=pd.merge(df_main, df4, on=['Powiat','Województwo'],how='outer')\n",
        "df_main=pd.merge(df_main, df5, on=['Powiat','Województwo'],how='outer')"
      ],
      "outputs": [],
      "execution_count": 43,
      "metadata": {},
      "id": "4e082fae"
    },
    {
      "cell_type": "code",
      "source": [
        "#wgrywamy dane o bezrobociu\n",
        "df_bez= pd.read_excel('bezrobocie.xlsx',sheet_name=2,header=3)"
      ],
      "outputs": [],
      "execution_count": 44,
      "metadata": {},
      "id": "e5c83d48"
    },
    {
      "cell_type": "code",
      "source": [
        "df_bez['Nazwa']=df_bez['Nazwa'].apply(lambda row: row if str(row).startswith('Powiat') else None)"
      ],
      "outputs": [],
      "execution_count": 45,
      "metadata": {},
      "id": "86f3c33e"
    },
    {
      "cell_type": "code",
      "source": [
        "df_bez['Nazwa']=df_bez['Nazwa'].str.split().str[-1].str.lower()"
      ],
      "outputs": [],
      "execution_count": 46,
      "metadata": {},
      "id": "5785c7f2"
    },
    {
      "cell_type": "code",
      "source": [
        "df_bez=df_bez.dropna()"
      ],
      "outputs": [],
      "execution_count": 47,
      "metadata": {},
      "id": "c870425c"
    },
    {
      "cell_type": "code",
      "source": [
        "df_bez1=df_bez[['Nazwa','2015','2015.2','2015.4','2015.6','2015.8','2015.10','2019','2019.2','2019.4','2019.6','2019.8','2019.10',\n",
        "        '2023','2023.2','2023.4','2023.6','2023.8','2023.10']]\n"
      ],
      "outputs": [],
      "execution_count": 48,
      "metadata": {},
      "id": "7c96e857"
    },
    {
      "cell_type": "code",
      "source": [
        "df_bez.loc[31,'Nazwa']=df_bez.loc[31,'Nazwa']='walbrzych'"
      ],
      "outputs": [],
      "execution_count": 49,
      "metadata": {},
      "id": "cf8f9429"
    },
    {
      "cell_type": "code",
      "source": [
        "df_bez.loc[28,'Nazwa']='jelenia góra'"
      ],
      "outputs": [],
      "execution_count": 50,
      "metadata": {},
      "id": "20af6628"
    },
    {
      "cell_type": "code",
      "source": [
        "df_bez1= df_bez1.rename({'Nazwa': 'Powiat'}, axis=1)"
      ],
      "outputs": [],
      "execution_count": 51,
      "metadata": {},
      "id": "d16f48a3"
    },
    {
      "cell_type": "code",
      "source": [
        "df_prze=df_main[['Województwo','Powiat']]"
      ],
      "outputs": [],
      "execution_count": 52,
      "metadata": {},
      "id": "2dd62e9a"
    },
    {
      "cell_type": "code",
      "source": [
        "df_bez1=pd.merge(df_prze, df_bez1, on=['Powiat'],how='outer')"
      ],
      "outputs": [],
      "execution_count": 53,
      "metadata": {},
      "id": "62d42890"
    },
    {
      "cell_type": "code",
      "source": [
        "# nie wymyśliłem krótszego sposobu jak to zrobić. Na dużym zbiorze to by się tak nie dało, więc jest nie do końca poprawnie \n",
        "df_bez1.loc[443,'Województwo']='dolnośląskie' \n",
        "df_bez1.loc[444,'Województwo']='dolnośląskie' \n",
        "df_bez1.loc[445,'Województwo']='dolnośląskie' \n",
        "df_bez1.loc[446,'Województwo']='lubelskie' \n",
        "df_bez1.loc[447,'Województwo']='lubuskie' \n",
        "df_bez1.loc[448,'Województwo']='łódzkie' \n",
        "df_bez1.loc[449,'Województwo']='łódzkie' \n",
        "df_bez1.loc[450,'Województwo']='małopolskie' \n",
        "df_bez1.loc[451,'Województwo']='mazowieckie' \n",
        "df_bez1.loc[452,'Województwo']='śląskie' \n",
        "df_bez1.loc[453,'Województwo']='śląskie' \n",
        "df_bez1.loc[454,'Województwo']='śląskie' \n",
        "df_bez1.loc[455,'Województwo']='śląskie' \n",
        "\n",
        "df_bez1.loc[443,'Powiat']='jelenia góra' \n",
        "df_bez1.loc[444,'Powiat']='jeleniogórski' \n",
        "df_bez1.loc[445,'Powiat']='wałbrzych' \n",
        "df_bez1.loc[446,'Powiat']='biała podlaska' \n",
        "df_bez1.loc[447,'Powiat']='gorzów wielkopolski' \n",
        "df_bez1.loc[448,'Powiat']='łódzki wschodni' \n",
        "df_bez1.loc[449,'Powiat']='piotrków trybunalski' \n",
        "df_bez1.loc[450,'Powiat']='nowy sącz' \n",
        "df_bez1.loc[451,'Powiat']='warszawski zachodni' \n",
        "df_bez1.loc[452,'Powiat']='dąbrowa górnicza' \n",
        "df_bez1.loc[453,'Powiat']='piekary śląskie' \n",
        "df_bez1.loc[454,'Powiat']='siemianowice śląskie' \n",
        "df_bez1.loc[455,'Powiat']='ruda śląska' \n"
      ],
      "outputs": [],
      "execution_count": 54,
      "metadata": {},
      "id": "7d489b65"
    },
    {
      "cell_type": "code",
      "source": [
        "df_bez1=df_bez1.dropna()"
      ],
      "outputs": [],
      "execution_count": 55,
      "metadata": {},
      "id": "37642135"
    },
    {
      "cell_type": "code",
      "source": [
        "df_bez1['BEZROBOCIE_2015']=df_bez1['2015']+df_bez1['2015.2']+df_bez1['2015.4']+df_bez1['2015.6']+df_bez1['2015.8']+df_bez1['2015.10']/6\n",
        "df_bez1['BEZROBOCIE_2019']=df_bez1['2019']+df_bez1['2019.2']+df_bez1['2019.4']+df_bez1['2019.6']+df_bez1['2019.8']+df_bez1['2019.10']/6\n",
        "df_bez1['BEZROBOCIE_2023']=df_bez1['2023']+df_bez1['2023.2']+df_bez1['2023.4']+df_bez1['2023.6']+df_bez1['2023.8']+df_bez1['2023.10']/6"
      ],
      "outputs": [],
      "execution_count": 56,
      "metadata": {},
      "id": "3bd951a1"
    },
    {
      "cell_type": "code",
      "source": [
        "df_bez1=df_bez1[['BEZROBOCIE_2023','BEZROBOCIE_2019','BEZROBOCIE_2015','Województwo','Powiat']]"
      ],
      "outputs": [],
      "execution_count": 57,
      "metadata": {},
      "id": "03417050"
    },
    {
      "cell_type": "code",
      "source": [
        "df_main=pd.merge(df_main, df_bez1, on=['Powiat','Województwo'])"
      ],
      "outputs": [],
      "execution_count": 58,
      "metadata": {},
      "id": "3799412b"
    },
    {
      "cell_type": "code",
      "source": [
        "df_main=df_main.dropna()"
      ],
      "outputs": [],
      "execution_count": 59,
      "metadata": {},
      "id": "dfdcc599"
    },
    {
      "cell_type": "code",
      "source": [
        "df_main=pd.merge(df_main, glosy, on=['Powiat','Województwo'])"
      ],
      "outputs": [],
      "execution_count": 60,
      "metadata": {},
      "id": "15961c58"
    },
    {
      "cell_type": "code",
      "source": [
        "df_main=df_main.drop_duplicates()"
      ],
      "outputs": [],
      "execution_count": 61,
      "metadata": {},
      "id": "3f37ffb8"
    },
    {
      "cell_type": "code",
      "source": [
        "dd=df4[['Głosy_wazne_2019','Województwo','Powiat']]"
      ],
      "outputs": [],
      "execution_count": 62,
      "metadata": {},
      "id": "ee452c6b"
    },
    {
      "cell_type": "code",
      "source": [
        "df_main=pd.merge(df_main, dd, on=['Powiat','Województwo'])"
      ],
      "outputs": [],
      "execution_count": 63,
      "metadata": {},
      "id": "60c6bf49"
    },
    {
      "cell_type": "code",
      "source": [
        "dr=df5[['Głosy_wazne_2023','Województwo','Powiat']]"
      ],
      "outputs": [],
      "execution_count": 64,
      "metadata": {},
      "id": "c6c7c50c"
    },
    {
      "cell_type": "code",
      "source": [
        "df_main=pd.merge(df_main, dr, on=['Powiat','Województwo'])"
      ],
      "outputs": [],
      "execution_count": 65,
      "metadata": {},
      "id": "d616852c"
    },
    {
      "cell_type": "code",
      "source": [
        "df_main"
      ],
      "outputs": [
        {
          "output_type": "execute_result",
          "execution_count": 66,
          "data": {
            "text/html": "<div>\n<style scoped>\n    .dataframe tbody tr th:only-of-type {\n        vertical-align: middle;\n    }\n\n    .dataframe tbody tr th {\n        vertical-align: top;\n    }\n\n    .dataframe thead th {\n        text-align: right;\n    }\n</style>\n<table border=\"1\" class=\"dataframe\">\n  <thead>\n    <tr style=\"text-align: right;\">\n      <th></th>\n      <th>Województwo</th>\n      <th>Powiat</th>\n      <th>PIS_SUMA_2015</th>\n      <th>PIS_PROCENT_2015</th>\n      <th>Wynagrodzenie_2015</th>\n      <th>Wynagrodzenie_2019</th>\n      <th>Wynagrodzenie_2023</th>\n      <th>PLATFORMA_SUMA_2015</th>\n      <th>PLATFORMA_PROCENT_2015</th>\n      <th>PSL_SUMA_2015</th>\n      <th>...</th>\n      <th>PSL_PROCENT_2023</th>\n      <th>KONFEDERACJA_PROCENT_2023</th>\n      <th>LEWICA_PROCENT_2023</th>\n      <th>MNIEJSZOSC_PROCENT_2023</th>\n      <th>BEZROBOCIE_2023</th>\n      <th>BEZROBOCIE_2019</th>\n      <th>BEZROBOCIE_2015</th>\n      <th>Głosy ważne</th>\n      <th>Głosy_wazne_2019_y</th>\n      <th>Głosy_wazne_2023_y</th>\n    </tr>\n  </thead>\n  <tbody>\n    <tr>\n      <th>0</th>\n      <td>dolnośląskie</td>\n      <td>bolesławiecki</td>\n      <td>10132.0</td>\n      <td>33.919186</td>\n      <td>3548.69</td>\n      <td>4545.34</td>\n      <td>6181.60</td>\n      <td>9955.0</td>\n      <td>33.326638</td>\n      <td>1170.0</td>\n      <td>...</td>\n      <td>11.739484</td>\n      <td>7.530948</td>\n      <td>9.116295</td>\n      <td>0.0</td>\n      <td>17.516667</td>\n      <td>21.066667</td>\n      <td>48.033333</td>\n      <td>29871.0</td>\n      <td>38018</td>\n      <td>45479.0</td>\n    </tr>\n    <tr>\n      <th>1</th>\n      <td>dolnośląskie</td>\n      <td>dzierżoniowski</td>\n      <td>12334.0</td>\n      <td>33.805674</td>\n      <td>3406.18</td>\n      <td>4484.28</td>\n      <td>5723.65</td>\n      <td>13177.0</td>\n      <td>36.116212</td>\n      <td>821.0</td>\n      <td>...</td>\n      <td>12.114224</td>\n      <td>7.183107</td>\n      <td>7.614254</td>\n      <td>0.0</td>\n      <td>29.550000</td>\n      <td>31.616667</td>\n      <td>83.200000</td>\n      <td>36485.0</td>\n      <td>43827</td>\n      <td>49867.0</td>\n    </tr>\n    <tr>\n      <th>2</th>\n      <td>dolnośląskie</td>\n      <td>górowski</td>\n      <td>3472.0</td>\n      <td>33.594582</td>\n      <td>3242.71</td>\n      <td>3978.78</td>\n      <td>5423.11</td>\n      <td>3604.0</td>\n      <td>34.871795</td>\n      <td>930.0</td>\n      <td>...</td>\n      <td>12.621178</td>\n      <td>6.978623</td>\n      <td>10.085757</td>\n      <td>0.0</td>\n      <td>74.483333</td>\n      <td>77.983333</td>\n      <td>121.066667</td>\n      <td>10335.0</td>\n      <td>13478</td>\n      <td>16092.0</td>\n    </tr>\n    <tr>\n      <th>3</th>\n      <td>dolnośląskie</td>\n      <td>głogowski</td>\n      <td>13833.0</td>\n      <td>39.918622</td>\n      <td>3615.99</td>\n      <td>4427.98</td>\n      <td>5856.76</td>\n      <td>11162.0</td>\n      <td>32.210775</td>\n      <td>707.0</td>\n      <td>...</td>\n      <td>9.477727</td>\n      <td>6.117501</td>\n      <td>8.840443</td>\n      <td>0.0</td>\n      <td>33.966667</td>\n      <td>46.716667</td>\n      <td>69.300000</td>\n      <td>34653.0</td>\n      <td>40741</td>\n      <td>46604.0</td>\n    </tr>\n    <tr>\n      <th>4</th>\n      <td>dolnośląskie</td>\n      <td>jaworski</td>\n      <td>6572.0</td>\n      <td>37.275254</td>\n      <td>3323.37</td>\n      <td>4408.00</td>\n      <td>6142.84</td>\n      <td>4809.0</td>\n      <td>27.275821</td>\n      <td>1413.0</td>\n      <td>...</td>\n      <td>11.121718</td>\n      <td>6.081941</td>\n      <td>9.972156</td>\n      <td>0.0</td>\n      <td>53.033333</td>\n      <td>64.933333</td>\n      <td>100.050000</td>\n      <td>17631.0</td>\n      <td>21600</td>\n      <td>25140.0</td>\n    </tr>\n    <tr>\n      <th>...</th>\n      <td>...</td>\n      <td>...</td>\n      <td>...</td>\n      <td>...</td>\n      <td>...</td>\n      <td>...</td>\n      <td>...</td>\n      <td>...</td>\n      <td>...</td>\n      <td>...</td>\n      <td>...</td>\n      <td>...</td>\n      <td>...</td>\n      <td>...</td>\n      <td>...</td>\n      <td>...</td>\n      <td>...</td>\n      <td>...</td>\n      <td>...</td>\n      <td>...</td>\n      <td>...</td>\n    </tr>\n    <tr>\n      <th>366</th>\n      <td>świętokrzyskie</td>\n      <td>sandomierski</td>\n      <td>11443.0</td>\n      <td>42.384621</td>\n      <td>3665.14</td>\n      <td>4656.65</td>\n      <td>5954.75</td>\n      <td>4943.0</td>\n      <td>18.308764</td>\n      <td>4111.0</td>\n      <td>...</td>\n      <td>22.061220</td>\n      <td>6.470918</td>\n      <td>5.523582</td>\n      <td>0.0</td>\n      <td>41.983333</td>\n      <td>34.316667</td>\n      <td>57.250000</td>\n      <td>26998.0</td>\n      <td>33525</td>\n      <td>39268.0</td>\n    </tr>\n    <tr>\n      <th>367</th>\n      <td>świętokrzyskie</td>\n      <td>skarżyski</td>\n      <td>12282.0</td>\n      <td>41.514281</td>\n      <td>3448.29</td>\n      <td>4399.33</td>\n      <td>5704.16</td>\n      <td>8560.0</td>\n      <td>28.933581</td>\n      <td>1232.0</td>\n      <td>...</td>\n      <td>10.633226</td>\n      <td>5.888469</td>\n      <td>7.397358</td>\n      <td>0.0</td>\n      <td>79.750000</td>\n      <td>79.983333</td>\n      <td>131.633333</td>\n      <td>29585.0</td>\n      <td>34652</td>\n      <td>39433.0</td>\n    </tr>\n    <tr>\n      <th>368</th>\n      <td>świętokrzyskie</td>\n      <td>starachowicki</td>\n      <td>14390.0</td>\n      <td>42.601693</td>\n      <td>3387.74</td>\n      <td>4481.58</td>\n      <td>5730.06</td>\n      <td>8105.0</td>\n      <td>23.994908</td>\n      <td>2002.0</td>\n      <td>...</td>\n      <td>12.608743</td>\n      <td>7.005342</td>\n      <td>6.440641</td>\n      <td>0.0</td>\n      <td>51.716667</td>\n      <td>42.066667</td>\n      <td>78.616667</td>\n      <td>33778.0</td>\n      <td>41553</td>\n      <td>45865.0</td>\n    </tr>\n    <tr>\n      <th>369</th>\n      <td>świętokrzyskie</td>\n      <td>staszowski</td>\n      <td>12464.0</td>\n      <td>48.980233</td>\n      <td>3760.61</td>\n      <td>4516.27</td>\n      <td>5856.73</td>\n      <td>3886.0</td>\n      <td>15.270955</td>\n      <td>3495.0</td>\n      <td>...</td>\n      <td>12.445680</td>\n      <td>7.301142</td>\n      <td>5.085157</td>\n      <td>0.0</td>\n      <td>35.216667</td>\n      <td>36.166667</td>\n      <td>59.350000</td>\n      <td>25447.0</td>\n      <td>31955</td>\n      <td>37049.0</td>\n    </tr>\n    <tr>\n      <th>370</th>\n      <td>świętokrzyskie</td>\n      <td>włoszczowski</td>\n      <td>7849.0</td>\n      <td>47.288830</td>\n      <td>3510.22</td>\n      <td>4459.58</td>\n      <td>5982.40</td>\n      <td>2203.0</td>\n      <td>13.272683</td>\n      <td>2608.0</td>\n      <td>...</td>\n      <td>15.477313</td>\n      <td>6.508997</td>\n      <td>5.471984</td>\n      <td>0.0</td>\n      <td>35.433333</td>\n      <td>33.416667</td>\n      <td>63.733333</td>\n      <td>16598.0</td>\n      <td>21166</td>\n      <td>24397.0</td>\n    </tr>\n  </tbody>\n</table>\n<p>371 rows × 49 columns</p>\n</div>",
            "text/plain": "        Województwo          Powiat  PIS_SUMA_2015  PIS_PROCENT_2015  \\\n0      dolnośląskie   bolesławiecki        10132.0         33.919186   \n1      dolnośląskie  dzierżoniowski        12334.0         33.805674   \n2      dolnośląskie        górowski         3472.0         33.594582   \n3      dolnośląskie       głogowski        13833.0         39.918622   \n4      dolnośląskie        jaworski         6572.0         37.275254   \n..              ...             ...            ...               ...   \n366  świętokrzyskie    sandomierski        11443.0         42.384621   \n367  świętokrzyskie       skarżyski        12282.0         41.514281   \n368  świętokrzyskie   starachowicki        14390.0         42.601693   \n369  świętokrzyskie      staszowski        12464.0         48.980233   \n370  świętokrzyskie    włoszczowski         7849.0         47.288830   \n\n     Wynagrodzenie_2015  Wynagrodzenie_2019  Wynagrodzenie_2023  \\\n0               3548.69             4545.34             6181.60   \n1               3406.18             4484.28             5723.65   \n2               3242.71             3978.78             5423.11   \n3               3615.99             4427.98             5856.76   \n4               3323.37             4408.00             6142.84   \n..                  ...                 ...                 ...   \n366             3665.14             4656.65             5954.75   \n367             3448.29             4399.33             5704.16   \n368             3387.74             4481.58             5730.06   \n369             3760.61             4516.27             5856.73   \n370             3510.22             4459.58             5982.40   \n\n     PLATFORMA_SUMA_2015  PLATFORMA_PROCENT_2015  PSL_SUMA_2015  ...  \\\n0                 9955.0               33.326638         1170.0  ...   \n1                13177.0               36.116212          821.0  ...   \n2                 3604.0               34.871795          930.0  ...   \n3                11162.0               32.210775          707.0  ...   \n4                 4809.0               27.275821         1413.0  ...   \n..                   ...                     ...            ...  ...   \n366               4943.0               18.308764         4111.0  ...   \n367               8560.0               28.933581         1232.0  ...   \n368               8105.0               23.994908         2002.0  ...   \n369               3886.0               15.270955         3495.0  ...   \n370               2203.0               13.272683         2608.0  ...   \n\n     PSL_PROCENT_2023  KONFEDERACJA_PROCENT_2023  LEWICA_PROCENT_2023  \\\n0           11.739484                   7.530948             9.116295   \n1           12.114224                   7.183107             7.614254   \n2           12.621178                   6.978623            10.085757   \n3            9.477727                   6.117501             8.840443   \n4           11.121718                   6.081941             9.972156   \n..                ...                        ...                  ...   \n366         22.061220                   6.470918             5.523582   \n367         10.633226                   5.888469             7.397358   \n368         12.608743                   7.005342             6.440641   \n369         12.445680                   7.301142             5.085157   \n370         15.477313                   6.508997             5.471984   \n\n     MNIEJSZOSC_PROCENT_2023  BEZROBOCIE_2023  BEZROBOCIE_2019  \\\n0                        0.0        17.516667        21.066667   \n1                        0.0        29.550000        31.616667   \n2                        0.0        74.483333        77.983333   \n3                        0.0        33.966667        46.716667   \n4                        0.0        53.033333        64.933333   \n..                       ...              ...              ...   \n366                      0.0        41.983333        34.316667   \n367                      0.0        79.750000        79.983333   \n368                      0.0        51.716667        42.066667   \n369                      0.0        35.216667        36.166667   \n370                      0.0        35.433333        33.416667   \n\n     BEZROBOCIE_2015  Głosy ważne  Głosy_wazne_2019_y  Głosy_wazne_2023_y  \n0          48.033333      29871.0               38018             45479.0  \n1          83.200000      36485.0               43827             49867.0  \n2         121.066667      10335.0               13478             16092.0  \n3          69.300000      34653.0               40741             46604.0  \n4         100.050000      17631.0               21600             25140.0  \n..               ...          ...                 ...                 ...  \n366        57.250000      26998.0               33525             39268.0  \n367       131.633333      29585.0               34652             39433.0  \n368        78.616667      33778.0               41553             45865.0  \n369        59.350000      25447.0               31955             37049.0  \n370        63.733333      16598.0               21166             24397.0  \n\n[371 rows x 49 columns]"
          },
          "metadata": {}
        }
      ],
      "execution_count": 66,
      "metadata": {},
      "id": "6f57adb0"
    },
    {
      "cell_type": "code",
      "source": [
        "df_main.drop(columns=['PIS_SUMA_2015','PLATFORMA_SUMA_2015','PSL_SUMA_2015','KONFEDERACJA_SUMA_2015','LEWICA_SUMA_2015','MNIEJSZOSC_SUMA_2015',\n",
        "                      'PIS_SUMA_2019','KO_SUMA_2019','PSL_SUMA_2019','KONFEDERACJA_SUMA_2019','LEWICA_SUMA_2019','MNIEJSZOSC_SUMA_2019',\n",
        "                      'PIS_SUMA_2023','KO_SUMA_2023','PSL_SUMA_2015','KONFEDERACJA_SUMA_2023','LEWICA_SUMA_2023','MNIEJSZOSC_SUMA_2023','Głosy ważne'],inplace=True)"
      ],
      "outputs": [],
      "execution_count": 67,
      "metadata": {},
      "id": "bcf4a383"
    },
    {
      "cell_type": "code",
      "source": [
        "df_main.drop(columns=['Głosy_wazne_2023_x','Głosy_wazne_2019_x'],inplace=True)"
      ],
      "outputs": [],
      "execution_count": 68,
      "metadata": {},
      "id": "d8c85d37"
    },
    {
      "cell_type": "code",
      "source": [
        "df_main=df_main.rename(columns={'Głosy ważne': 'Glosy_2015','Głosy_wazne_2019_y': 'Glosy_2019','Głosy_wazne_2023_y': 'Glosy_2023'})"
      ],
      "outputs": [],
      "execution_count": 69,
      "metadata": {},
      "id": "9ab923be"
    },
    {
      "cell_type": "code",
      "source": [
        "df_main=df_main.rename(columns={'PLATFORMA_PROCENT_2015':'KO_PROCENT_2015'})"
      ],
      "outputs": [],
      "execution_count": 70,
      "metadata": {},
      "id": "6bc0217f"
    },
    {
      "cell_type": "code",
      "source": [
        "def election(year=[2015, 2019, 2023], parties=['PIS', 'KO', 'PSL'], count=2):\n",
        "    \"\"\"\n",
        "    funkcja zwraca ramkę danych pokazującą przeciętne statystyki w n powiatach o największej łącznej liczbie oddanych głosów oddzielnie w każdym województwie i roku\n",
        "    Args:\n",
        "        year (list of int): A list of integer values.\n",
        "        parties (list of string): A list of string values.\n",
        "        count (integer): Integer.\n",
        "\n",
        "    Returns:\n",
        "        dataframe: Posortowany dataframe z powiatami i statystykami.\n",
        "\n",
        "    Przykłady:\n",
        "        >>> election(year=[2015, 2019], parties=['PIS', 'KO', 'PSL'], count=2)\n",
        "        ramka danych dwa powiata o największej liczbie głosów odzielnie w każdym wojewódstwie\n",
        "        ze statystykami za rok 2015 oraz 2019\n",
        "    \"\"\"\n",
        "    return df_main.groupby('Województwo', group_keys=False).apply(\n",
        "        lambda x: x.nlargest(count, ['Glosy_' + str(year[0]), 'Glosy_' + str(year[1])]))[\n",
        "               ['Powiat', 'Województwo', parties[0] + '_PROCENT_' + str(year[0]),\n",
        "                parties[1] + '_PROCENT_' + str(year[0]), parties[2] + '_PROCENT_' + str(year[0]),\n",
        "                parties[0] + '_PROCENT_' + str(year[1]), parties[1] + '_PROCENT_' + str(year[1]),\n",
        "                parties[2] + '_PROCENT_' + str(year[1]), 'Wynagrodzenie_' + str(year[0]),\n",
        "                'Wynagrodzenie_' + str(year[1]), 'BEZROBOCIE_' + str(year[0]),\n",
        "                'BEZROBOCIE_' + str(year[1]), 'Glosy_' + str(year[0]), 'Glosy_' + str(year[1])]].sort_values(\n",
        "        by='Województwo')"
      ],
      "outputs": [],
      "execution_count": 71,
      "metadata": {},
      "id": "74ba97f8"
    },
    {
      "cell_type": "code",
      "source": [
        "election(year=[2019,2023])"
      ],
      "outputs": [
        {
          "output_type": "execute_result",
          "execution_count": 72,
          "data": {
            "text/html": "<div>\n<style scoped>\n    .dataframe tbody tr th:only-of-type {\n        vertical-align: middle;\n    }\n\n    .dataframe tbody tr th {\n        vertical-align: top;\n    }\n\n    .dataframe thead th {\n        text-align: right;\n    }\n</style>\n<table border=\"1\" class=\"dataframe\">\n  <thead>\n    <tr style=\"text-align: right;\">\n      <th></th>\n      <th>Powiat</th>\n      <th>Województwo</th>\n      <th>PIS_PROCENT_2019</th>\n      <th>KO_PROCENT_2019</th>\n      <th>PSL_PROCENT_2019</th>\n      <th>PIS_PROCENT_2023</th>\n      <th>KO_PROCENT_2023</th>\n      <th>PSL_PROCENT_2023</th>\n      <th>Wynagrodzenie_2019</th>\n      <th>Wynagrodzenie_2023</th>\n      <th>BEZROBOCIE_2019</th>\n      <th>BEZROBOCIE_2023</th>\n      <th>Glosy_2019</th>\n      <th>Glosy_2023</th>\n    </tr>\n  </thead>\n  <tbody>\n    <tr>\n      <th>19</th>\n      <td>wrocławski</td>\n      <td>dolnośląskie</td>\n      <td>35.336680</td>\n      <td>32.722935</td>\n      <td>7.425710</td>\n      <td>25.575604</td>\n      <td>38.201971</td>\n      <td>15.418992</td>\n      <td>5324.29</td>\n      <td>7161.33</td>\n      <td>9.583333</td>\n      <td>7.533333</td>\n      <td>76289</td>\n      <td>101589.0</td>\n    </tr>\n    <tr>\n      <th>31</th>\n      <td>świdnicki</td>\n      <td>dolnośląskie</td>\n      <td>41.142145</td>\n      <td>31.040273</td>\n      <td>5.219557</td>\n      <td>32.981953</td>\n      <td>35.582084</td>\n      <td>11.967161</td>\n      <td>4741.36</td>\n      <td>6059.31</td>\n      <td>32.000000</td>\n      <td>31.166667</td>\n      <td>71462</td>\n      <td>82342.0</td>\n    </tr>\n    <tr>\n      <th>45</th>\n      <td>inowrocławski</td>\n      <td>kujawsko-pomorskie</td>\n      <td>37.656091</td>\n      <td>29.997343</td>\n      <td>11.451065</td>\n      <td>32.892534</td>\n      <td>34.909131</td>\n      <td>14.726048</td>\n      <td>4141.32</td>\n      <td>5655.28</td>\n      <td>65.233333</td>\n      <td>56.000000</td>\n      <td>71513</td>\n      <td>81821.0</td>\n    </tr>\n    <tr>\n      <th>41</th>\n      <td>bydgoski</td>\n      <td>kujawsko-pomorskie</td>\n      <td>32.867287</td>\n      <td>33.338239</td>\n      <td>8.602230</td>\n      <td>25.807286</td>\n      <td>37.865919</td>\n      <td>17.214917</td>\n      <td>4449.27</td>\n      <td>5793.56</td>\n      <td>28.200000</td>\n      <td>18.550000</td>\n      <td>54358</td>\n      <td>69585.0</td>\n    </tr>\n    <tr>\n      <th>66</th>\n      <td>lubelski</td>\n      <td>lubelskie</td>\n      <td>57.996310</td>\n      <td>14.740655</td>\n      <td>12.721930</td>\n      <td>46.213173</td>\n      <td>16.706591</td>\n      <td>17.717382</td>\n      <td>3943.73</td>\n      <td>5115.88</td>\n      <td>32.483333</td>\n      <td>30.116667</td>\n      <td>73165</td>\n      <td>89336.0</td>\n    </tr>\n    <tr>\n      <th>76</th>\n      <td>puławski</td>\n      <td>lubelskie</td>\n      <td>53.914373</td>\n      <td>20.413743</td>\n      <td>8.053607</td>\n      <td>44.516679</td>\n      <td>22.476094</td>\n      <td>15.122921</td>\n      <td>4902.81</td>\n      <td>6254.05</td>\n      <td>32.316667</td>\n      <td>30.816667</td>\n      <td>55590</td>\n      <td>63374.0</td>\n    </tr>\n    <tr>\n      <th>109</th>\n      <td>żarski</td>\n      <td>lubuskie</td>\n      <td>35.318301</td>\n      <td>28.809275</td>\n      <td>12.762698</td>\n      <td>29.094689</td>\n      <td>37.449098</td>\n      <td>13.888294</td>\n      <td>4769.05</td>\n      <td>6172.02</td>\n      <td>30.366667</td>\n      <td>27.016667</td>\n      <td>39161</td>\n      <td>46658.0</td>\n    </tr>\n    <tr>\n      <th>101</th>\n      <td>nowosolski</td>\n      <td>lubuskie</td>\n      <td>37.494897</td>\n      <td>29.824991</td>\n      <td>11.262622</td>\n      <td>31.412440</td>\n      <td>36.281555</td>\n      <td>14.588680</td>\n      <td>4517.64</td>\n      <td>5810.07</td>\n      <td>43.716667</td>\n      <td>29.466667</td>\n      <td>36741</td>\n      <td>42862.0</td>\n    </tr>\n    <tr>\n      <th>160</th>\n      <td>wołomiński</td>\n      <td>mazowieckie</td>\n      <td>48.657961</td>\n      <td>22.582801</td>\n      <td>7.444410</td>\n      <td>37.696494</td>\n      <td>28.774730</td>\n      <td>14.175420</td>\n      <td>4790.56</td>\n      <td>6065.79</td>\n      <td>38.150000</td>\n      <td>33.500000</td>\n      <td>124214</td>\n      <td>154521.0</td>\n    </tr>\n    <tr>\n      <th>147</th>\n      <td>piaseczyński</td>\n      <td>mazowieckie</td>\n      <td>35.172442</td>\n      <td>34.640227</td>\n      <td>7.301099</td>\n      <td>26.720902</td>\n      <td>40.229969</td>\n      <td>15.304685</td>\n      <td>5120.47</td>\n      <td>6499.96</td>\n      <td>19.483333</td>\n      <td>18.366667</td>\n      <td>99396</td>\n      <td>122799.0</td>\n    </tr>\n    <tr>\n      <th>179</th>\n      <td>krakowski</td>\n      <td>małopolskie</td>\n      <td>50.854734</td>\n      <td>22.685881</td>\n      <td>8.396403</td>\n      <td>39.649513</td>\n      <td>25.514175</td>\n      <td>16.464117</td>\n      <td>5514.71</td>\n      <td>6385.62</td>\n      <td>21.733333</td>\n      <td>24.133333</td>\n      <td>140453</td>\n      <td>170905.0</td>\n    </tr>\n    <tr>\n      <th>183</th>\n      <td>nowosądecki</td>\n      <td>małopolskie</td>\n      <td>71.844087</td>\n      <td>10.202508</td>\n      <td>6.289452</td>\n      <td>59.084953</td>\n      <td>12.207580</td>\n      <td>9.771405</td>\n      <td>3909.31</td>\n      <td>5134.07</td>\n      <td>41.216667</td>\n      <td>47.866667</td>\n      <td>105033</td>\n      <td>119819.0</td>\n    </tr>\n    <tr>\n      <th>198</th>\n      <td>nyski</td>\n      <td>opolskie</td>\n      <td>48.130471</td>\n      <td>22.846164</td>\n      <td>9.351092</td>\n      <td>41.292795</td>\n      <td>30.900735</td>\n      <td>11.314202</td>\n      <td>4218.98</td>\n      <td>5717.73</td>\n      <td>40.833333</td>\n      <td>41.150000</td>\n      <td>58036</td>\n      <td>66801.0</td>\n    </tr>\n    <tr>\n      <th>71</th>\n      <td>opolski</td>\n      <td>opolskie</td>\n      <td>29.449756</td>\n      <td>27.144938</td>\n      <td>11.032314</td>\n      <td>24.745111</td>\n      <td>33.395176</td>\n      <td>13.387006</td>\n      <td>4371.57</td>\n      <td>5740.58</td>\n      <td>46.600000</td>\n      <td>51.016667</td>\n      <td>47379</td>\n      <td>58751.0</td>\n    </tr>\n    <tr>\n      <th>204</th>\n      <td>dębicki</td>\n      <td>podkarpackie</td>\n      <td>65.417347</td>\n      <td>13.895184</td>\n      <td>8.207477</td>\n      <td>55.637711</td>\n      <td>16.209379</td>\n      <td>11.473898</td>\n      <td>4304.06</td>\n      <td>5507.67</td>\n      <td>27.883333</td>\n      <td>25.183333</td>\n      <td>63101</td>\n      <td>71545.0</td>\n    </tr>\n    <tr>\n      <th>216</th>\n      <td>rzeszowski</td>\n      <td>podkarpackie</td>\n      <td>67.592065</td>\n      <td>10.858460</td>\n      <td>7.331190</td>\n      <td>54.410921</td>\n      <td>14.321024</td>\n      <td>12.139289</td>\n      <td>4304.89</td>\n      <td>5684.10</td>\n      <td>44.016667</td>\n      <td>41.150000</td>\n      <td>82415</td>\n      <td>95887.0</td>\n    </tr>\n    <tr>\n      <th>223</th>\n      <td>białostocki</td>\n      <td>podlaskie</td>\n      <td>53.242566</td>\n      <td>22.044558</td>\n      <td>6.698138</td>\n      <td>41.131300</td>\n      <td>21.777591</td>\n      <td>19.221837</td>\n      <td>4189.60</td>\n      <td>5597.60</td>\n      <td>44.033333</td>\n      <td>39.850000</td>\n      <td>69482</td>\n      <td>85689.0</td>\n    </tr>\n    <tr>\n      <th>238</th>\n      <td>sokólski</td>\n      <td>podlaskie</td>\n      <td>60.475279</td>\n      <td>11.788075</td>\n      <td>13.456607</td>\n      <td>50.408189</td>\n      <td>15.900528</td>\n      <td>17.175333</td>\n      <td>4200.08</td>\n      <td>5506.16</td>\n      <td>56.266667</td>\n      <td>57.133333</td>\n      <td>27689</td>\n      <td>31848.0</td>\n    </tr>\n    <tr>\n      <th>257</th>\n      <td>wejherowski</td>\n      <td>pomorskie</td>\n      <td>36.626241</td>\n      <td>36.228976</td>\n      <td>7.537056</td>\n      <td>28.034578</td>\n      <td>38.522264</td>\n      <td>14.002610</td>\n      <td>4306.07</td>\n      <td>5557.82</td>\n      <td>33.050000</td>\n      <td>27.650000</td>\n      <td>100185</td>\n      <td>122620.0</td>\n    </tr>\n    <tr>\n      <th>247</th>\n      <td>kartuski</td>\n      <td>pomorskie</td>\n      <td>45.370686</td>\n      <td>32.039317</td>\n      <td>8.140833</td>\n      <td>33.369488</td>\n      <td>31.473858</td>\n      <td>14.081643</td>\n      <td>4239.41</td>\n      <td>5651.36</td>\n      <td>14.883333</td>\n      <td>16.050000</td>\n      <td>64502</td>\n      <td>81134.0</td>\n    </tr>\n    <tr>\n      <th>272</th>\n      <td>olsztyński</td>\n      <td>warmińsko-mazurskie</td>\n      <td>35.005334</td>\n      <td>26.880287</td>\n      <td>16.360588</td>\n      <td>28.677053</td>\n      <td>34.287152</td>\n      <td>18.025489</td>\n      <td>4367.81</td>\n      <td>5865.11</td>\n      <td>54.216667</td>\n      <td>36.783333</td>\n      <td>52492</td>\n      <td>65596.0</td>\n    </tr>\n    <tr>\n      <th>273</th>\n      <td>ostródzki</td>\n      <td>warmińsko-mazurskie</td>\n      <td>37.637013</td>\n      <td>30.353298</td>\n      <td>10.388530</td>\n      <td>32.318221</td>\n      <td>33.905684</td>\n      <td>15.445360</td>\n      <td>4160.33</td>\n      <td>5403.55</td>\n      <td>56.700000</td>\n      <td>47.800000</td>\n      <td>40872</td>\n      <td>49387.0</td>\n    </tr>\n    <tr>\n      <th>141</th>\n      <td>ostrowski</td>\n      <td>wielkopolskie</td>\n      <td>43.234176</td>\n      <td>28.819290</td>\n      <td>10.233259</td>\n      <td>36.289178</td>\n      <td>30.623465</td>\n      <td>13.964309</td>\n      <td>4303.12</td>\n      <td>5499.39</td>\n      <td>46.716667</td>\n      <td>47.066667</td>\n      <td>76310</td>\n      <td>88762.0</td>\n    </tr>\n    <tr>\n      <th>295</th>\n      <td>poznański</td>\n      <td>wielkopolskie</td>\n      <td>27.086844</td>\n      <td>43.986730</td>\n      <td>7.900924</td>\n      <td>20.795925</td>\n      <td>43.551827</td>\n      <td>17.593206</td>\n      <td>4624.14</td>\n      <td>5737.99</td>\n      <td>7.116667</td>\n      <td>5.466667</td>\n      <td>210102</td>\n      <td>259748.0</td>\n    </tr>\n    <tr>\n      <th>317</th>\n      <td>stargardzki</td>\n      <td>zachodniopomorskie</td>\n      <td>37.844946</td>\n      <td>32.554002</td>\n      <td>8.530100</td>\n      <td>31.724831</td>\n      <td>37.238100</td>\n      <td>12.912697</td>\n      <td>4460.30</td>\n      <td>5605.44</td>\n      <td>42.266667</td>\n      <td>38.000000</td>\n      <td>51711</td>\n      <td>62667.0</td>\n    </tr>\n    <tr>\n      <th>313</th>\n      <td>kołobrzeski</td>\n      <td>zachodniopomorskie</td>\n      <td>36.341994</td>\n      <td>33.710483</td>\n      <td>7.285294</td>\n      <td>30.080007</td>\n      <td>42.420307</td>\n      <td>11.389436</td>\n      <td>4331.04</td>\n      <td>5585.13</td>\n      <td>12.750000</td>\n      <td>10.333333</td>\n      <td>39065</td>\n      <td>47746.0</td>\n    </tr>\n    <tr>\n      <th>338</th>\n      <td>zgierski</td>\n      <td>łódzkie</td>\n      <td>40.808374</td>\n      <td>30.300942</td>\n      <td>6.608134</td>\n      <td>33.400649</td>\n      <td>33.803521</td>\n      <td>13.429411</td>\n      <td>4655.05</td>\n      <td>6024.38</td>\n      <td>34.900000</td>\n      <td>28.533333</td>\n      <td>84169</td>\n      <td>98046.0</td>\n    </tr>\n    <tr>\n      <th>327</th>\n      <td>pabianicki</td>\n      <td>łódzkie</td>\n      <td>39.130153</td>\n      <td>30.483500</td>\n      <td>5.976554</td>\n      <td>31.475923</td>\n      <td>34.938474</td>\n      <td>12.733480</td>\n      <td>4408.23</td>\n      <td>5650.74</td>\n      <td>35.450000</td>\n      <td>30.550000</td>\n      <td>61758</td>\n      <td>70295.0</td>\n    </tr>\n    <tr>\n      <th>344</th>\n      <td>cieszyński</td>\n      <td>śląskie</td>\n      <td>41.483792</td>\n      <td>28.297219</td>\n      <td>8.186515</td>\n      <td>32.946880</td>\n      <td>28.927369</td>\n      <td>16.307533</td>\n      <td>4395.74</td>\n      <td>5838.18</td>\n      <td>24.966667</td>\n      <td>27.350000</td>\n      <td>86899</td>\n      <td>100659.0</td>\n    </tr>\n    <tr>\n      <th>228</th>\n      <td>bielski</td>\n      <td>śląskie</td>\n      <td>45.694417</td>\n      <td>26.439038</td>\n      <td>8.676215</td>\n      <td>35.002342</td>\n      <td>28.925073</td>\n      <td>15.846928</td>\n      <td>4564.32</td>\n      <td>5875.70</td>\n      <td>26.933333</td>\n      <td>22.683333</td>\n      <td>84553</td>\n      <td>98202.0</td>\n    </tr>\n    <tr>\n      <th>361</th>\n      <td>kielecki</td>\n      <td>świętokrzyskie</td>\n      <td>61.703881</td>\n      <td>12.838615</td>\n      <td>8.781852</td>\n      <td>51.199680</td>\n      <td>16.697602</td>\n      <td>12.274368</td>\n      <td>4056.90</td>\n      <td>5289.72</td>\n      <td>56.583333</td>\n      <td>38.216667</td>\n      <td>98305</td>\n      <td>117448.0</td>\n    </tr>\n    <tr>\n      <th>364</th>\n      <td>ostrowiecki</td>\n      <td>świętokrzyskie</td>\n      <td>49.485459</td>\n      <td>19.356557</td>\n      <td>8.000426</td>\n      <td>43.000802</td>\n      <td>24.524711</td>\n      <td>14.418179</td>\n      <td>4129.16</td>\n      <td>5388.69</td>\n      <td>60.266667</td>\n      <td>52.783333</td>\n      <td>46935</td>\n      <td>53599.0</td>\n    </tr>\n  </tbody>\n</table>\n</div>",
            "text/plain": "            Powiat          Województwo  PIS_PROCENT_2019  KO_PROCENT_2019  \\\n19      wrocławski         dolnośląskie         35.336680        32.722935   \n31       świdnicki         dolnośląskie         41.142145        31.040273   \n45   inowrocławski   kujawsko-pomorskie         37.656091        29.997343   \n41        bydgoski   kujawsko-pomorskie         32.867287        33.338239   \n66        lubelski            lubelskie         57.996310        14.740655   \n76        puławski            lubelskie         53.914373        20.413743   \n109         żarski             lubuskie         35.318301        28.809275   \n101     nowosolski             lubuskie         37.494897        29.824991   \n160     wołomiński          mazowieckie         48.657961        22.582801   \n147   piaseczyński          mazowieckie         35.172442        34.640227   \n179      krakowski          małopolskie         50.854734        22.685881   \n183    nowosądecki          małopolskie         71.844087        10.202508   \n198          nyski             opolskie         48.130471        22.846164   \n71         opolski             opolskie         29.449756        27.144938   \n204        dębicki         podkarpackie         65.417347        13.895184   \n216     rzeszowski         podkarpackie         67.592065        10.858460   \n223    białostocki            podlaskie         53.242566        22.044558   \n238       sokólski            podlaskie         60.475279        11.788075   \n257    wejherowski            pomorskie         36.626241        36.228976   \n247       kartuski            pomorskie         45.370686        32.039317   \n272     olsztyński  warmińsko-mazurskie         35.005334        26.880287   \n273      ostródzki  warmińsko-mazurskie         37.637013        30.353298   \n141      ostrowski        wielkopolskie         43.234176        28.819290   \n295      poznański        wielkopolskie         27.086844        43.986730   \n317    stargardzki   zachodniopomorskie         37.844946        32.554002   \n313    kołobrzeski   zachodniopomorskie         36.341994        33.710483   \n338       zgierski              łódzkie         40.808374        30.300942   \n327     pabianicki              łódzkie         39.130153        30.483500   \n344     cieszyński              śląskie         41.483792        28.297219   \n228        bielski              śląskie         45.694417        26.439038   \n361       kielecki       świętokrzyskie         61.703881        12.838615   \n364    ostrowiecki       świętokrzyskie         49.485459        19.356557   \n\n     PSL_PROCENT_2019  PIS_PROCENT_2023  KO_PROCENT_2023  PSL_PROCENT_2023  \\\n19           7.425710         25.575604        38.201971         15.418992   \n31           5.219557         32.981953        35.582084         11.967161   \n45          11.451065         32.892534        34.909131         14.726048   \n41           8.602230         25.807286        37.865919         17.214917   \n66          12.721930         46.213173        16.706591         17.717382   \n76           8.053607         44.516679        22.476094         15.122921   \n109         12.762698         29.094689        37.449098         13.888294   \n101         11.262622         31.412440        36.281555         14.588680   \n160          7.444410         37.696494        28.774730         14.175420   \n147          7.301099         26.720902        40.229969         15.304685   \n179          8.396403         39.649513        25.514175         16.464117   \n183          6.289452         59.084953        12.207580          9.771405   \n198          9.351092         41.292795        30.900735         11.314202   \n71          11.032314         24.745111        33.395176         13.387006   \n204          8.207477         55.637711        16.209379         11.473898   \n216          7.331190         54.410921        14.321024         12.139289   \n223          6.698138         41.131300        21.777591         19.221837   \n238         13.456607         50.408189        15.900528         17.175333   \n257          7.537056         28.034578        38.522264         14.002610   \n247          8.140833         33.369488        31.473858         14.081643   \n272         16.360588         28.677053        34.287152         18.025489   \n273         10.388530         32.318221        33.905684         15.445360   \n141         10.233259         36.289178        30.623465         13.964309   \n295          7.900924         20.795925        43.551827         17.593206   \n317          8.530100         31.724831        37.238100         12.912697   \n313          7.285294         30.080007        42.420307         11.389436   \n338          6.608134         33.400649        33.803521         13.429411   \n327          5.976554         31.475923        34.938474         12.733480   \n344          8.186515         32.946880        28.927369         16.307533   \n228          8.676215         35.002342        28.925073         15.846928   \n361          8.781852         51.199680        16.697602         12.274368   \n364          8.000426         43.000802        24.524711         14.418179   \n\n     Wynagrodzenie_2019  Wynagrodzenie_2023  BEZROBOCIE_2019  BEZROBOCIE_2023  \\\n19              5324.29             7161.33         9.583333         7.533333   \n31              4741.36             6059.31        32.000000        31.166667   \n45              4141.32             5655.28        65.233333        56.000000   \n41              4449.27             5793.56        28.200000        18.550000   \n66              3943.73             5115.88        32.483333        30.116667   \n76              4902.81             6254.05        32.316667        30.816667   \n109             4769.05             6172.02        30.366667        27.016667   \n101             4517.64             5810.07        43.716667        29.466667   \n160             4790.56             6065.79        38.150000        33.500000   \n147             5120.47             6499.96        19.483333        18.366667   \n179             5514.71             6385.62        21.733333        24.133333   \n183             3909.31             5134.07        41.216667        47.866667   \n198             4218.98             5717.73        40.833333        41.150000   \n71              4371.57             5740.58        46.600000        51.016667   \n204             4304.06             5507.67        27.883333        25.183333   \n216             4304.89             5684.10        44.016667        41.150000   \n223             4189.60             5597.60        44.033333        39.850000   \n238             4200.08             5506.16        56.266667        57.133333   \n257             4306.07             5557.82        33.050000        27.650000   \n247             4239.41             5651.36        14.883333        16.050000   \n272             4367.81             5865.11        54.216667        36.783333   \n273             4160.33             5403.55        56.700000        47.800000   \n141             4303.12             5499.39        46.716667        47.066667   \n295             4624.14             5737.99         7.116667         5.466667   \n317             4460.30             5605.44        42.266667        38.000000   \n313             4331.04             5585.13        12.750000        10.333333   \n338             4655.05             6024.38        34.900000        28.533333   \n327             4408.23             5650.74        35.450000        30.550000   \n344             4395.74             5838.18        24.966667        27.350000   \n228             4564.32             5875.70        26.933333        22.683333   \n361             4056.90             5289.72        56.583333        38.216667   \n364             4129.16             5388.69        60.266667        52.783333   \n\n     Glosy_2019  Glosy_2023  \n19        76289    101589.0  \n31        71462     82342.0  \n45        71513     81821.0  \n41        54358     69585.0  \n66        73165     89336.0  \n76        55590     63374.0  \n109       39161     46658.0  \n101       36741     42862.0  \n160      124214    154521.0  \n147       99396    122799.0  \n179      140453    170905.0  \n183      105033    119819.0  \n198       58036     66801.0  \n71        47379     58751.0  \n204       63101     71545.0  \n216       82415     95887.0  \n223       69482     85689.0  \n238       27689     31848.0  \n257      100185    122620.0  \n247       64502     81134.0  \n272       52492     65596.0  \n273       40872     49387.0  \n141       76310     88762.0  \n295      210102    259748.0  \n317       51711     62667.0  \n313       39065     47746.0  \n338       84169     98046.0  \n327       61758     70295.0  \n344       86899    100659.0  \n228       84553     98202.0  \n361       98305    117448.0  \n364       46935     53599.0  "
          },
          "metadata": {}
        }
      ],
      "execution_count": 72,
      "metadata": {},
      "id": "ab415333"
    }
  ],
  "metadata": {
    "kernelspec": {
      "name": "python",
      "language": "python",
      "display_name": "Pyolite (preview)"
    },
    "language_info": {
      "codemirror_mode": {
        "name": "python",
        "version": 3
      },
      "file_extension": ".py",
      "mimetype": "text/x-python",
      "name": "python",
      "nbconvert_exporter": "python",
      "pygments_lexer": "ipython3",
      "version": "3.8"
    },
    "kernel_info": {
      "name": "python"
    },
    "nteract": {
      "version": "nteract-front-end@1.0.0"
    }
  },
  "nbformat": 4,
  "nbformat_minor": 5
}